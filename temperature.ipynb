{
 "cells": [
  {
   "cell_type": "code",
   "execution_count": null,
   "metadata": {},
   "outputs": [],
   "source": []
  },
  {
   "cell_type": "code",
   "execution_count": 45,
   "metadata": {},
   "outputs": [],
   "source": [
    "import numpy as np\n",
    "import pandas as pd\n",
    "from scipy.stats  import zscore"
   ]
  },
  {
   "cell_type": "code",
   "execution_count": 46,
   "metadata": {},
   "outputs": [],
   "source": [
    "data = pd.read_csv(\"train.csv\" )"
   ]
  },
  {
   "cell_type": "code",
   "execution_count": 47,
   "metadata": {},
   "outputs": [
    {
     "data": {
      "text/html": [
       "<div>\n",
       "<style scoped>\n",
       "    .dataframe tbody tr th:only-of-type {\n",
       "        vertical-align: middle;\n",
       "    }\n",
       "\n",
       "    .dataframe tbody tr th {\n",
       "        vertical-align: top;\n",
       "    }\n",
       "\n",
       "    .dataframe thead th {\n",
       "        text-align: right;\n",
       "    }\n",
       "</style>\n",
       "<table border=\"1\" class=\"dataframe\">\n",
       "  <thead>\n",
       "    <tr style=\"text-align: right;\">\n",
       "      <th></th>\n",
       "      <th>number_of_elements</th>\n",
       "      <th>mean_atomic_mass</th>\n",
       "      <th>wtd_mean_atomic_mass</th>\n",
       "      <th>gmean_atomic_mass</th>\n",
       "      <th>wtd_gmean_atomic_mass</th>\n",
       "      <th>entropy_atomic_mass</th>\n",
       "      <th>wtd_entropy_atomic_mass</th>\n",
       "      <th>range_atomic_mass</th>\n",
       "      <th>wtd_range_atomic_mass</th>\n",
       "      <th>std_atomic_mass</th>\n",
       "      <th>...</th>\n",
       "      <th>wtd_mean_Valence</th>\n",
       "      <th>gmean_Valence</th>\n",
       "      <th>wtd_gmean_Valence</th>\n",
       "      <th>entropy_Valence</th>\n",
       "      <th>wtd_entropy_Valence</th>\n",
       "      <th>range_Valence</th>\n",
       "      <th>wtd_range_Valence</th>\n",
       "      <th>std_Valence</th>\n",
       "      <th>wtd_std_Valence</th>\n",
       "      <th>critical_temp</th>\n",
       "    </tr>\n",
       "  </thead>\n",
       "  <tbody>\n",
       "    <tr>\n",
       "      <th>0</th>\n",
       "      <td>4</td>\n",
       "      <td>88.944468</td>\n",
       "      <td>57.862692</td>\n",
       "      <td>66.361592</td>\n",
       "      <td>36.116612</td>\n",
       "      <td>1.181795</td>\n",
       "      <td>1.062396</td>\n",
       "      <td>122.90607</td>\n",
       "      <td>31.794921</td>\n",
       "      <td>51.968828</td>\n",
       "      <td>...</td>\n",
       "      <td>2.257143</td>\n",
       "      <td>2.213364</td>\n",
       "      <td>2.219783</td>\n",
       "      <td>1.368922</td>\n",
       "      <td>1.066221</td>\n",
       "      <td>1</td>\n",
       "      <td>1.085714</td>\n",
       "      <td>0.433013</td>\n",
       "      <td>0.437059</td>\n",
       "      <td>29.0</td>\n",
       "    </tr>\n",
       "    <tr>\n",
       "      <th>1</th>\n",
       "      <td>5</td>\n",
       "      <td>92.729214</td>\n",
       "      <td>58.518416</td>\n",
       "      <td>73.132787</td>\n",
       "      <td>36.396602</td>\n",
       "      <td>1.449309</td>\n",
       "      <td>1.057755</td>\n",
       "      <td>122.90607</td>\n",
       "      <td>36.161939</td>\n",
       "      <td>47.094633</td>\n",
       "      <td>...</td>\n",
       "      <td>2.257143</td>\n",
       "      <td>1.888175</td>\n",
       "      <td>2.210679</td>\n",
       "      <td>1.557113</td>\n",
       "      <td>1.047221</td>\n",
       "      <td>2</td>\n",
       "      <td>1.128571</td>\n",
       "      <td>0.632456</td>\n",
       "      <td>0.468606</td>\n",
       "      <td>26.0</td>\n",
       "    </tr>\n",
       "    <tr>\n",
       "      <th>2</th>\n",
       "      <td>4</td>\n",
       "      <td>88.944468</td>\n",
       "      <td>57.885242</td>\n",
       "      <td>66.361592</td>\n",
       "      <td>36.122509</td>\n",
       "      <td>1.181795</td>\n",
       "      <td>0.975980</td>\n",
       "      <td>122.90607</td>\n",
       "      <td>35.741099</td>\n",
       "      <td>51.968828</td>\n",
       "      <td>...</td>\n",
       "      <td>2.271429</td>\n",
       "      <td>2.213364</td>\n",
       "      <td>2.232679</td>\n",
       "      <td>1.368922</td>\n",
       "      <td>1.029175</td>\n",
       "      <td>1</td>\n",
       "      <td>1.114286</td>\n",
       "      <td>0.433013</td>\n",
       "      <td>0.444697</td>\n",
       "      <td>19.0</td>\n",
       "    </tr>\n",
       "    <tr>\n",
       "      <th>3</th>\n",
       "      <td>4</td>\n",
       "      <td>88.944468</td>\n",
       "      <td>57.873967</td>\n",
       "      <td>66.361592</td>\n",
       "      <td>36.119560</td>\n",
       "      <td>1.181795</td>\n",
       "      <td>1.022291</td>\n",
       "      <td>122.90607</td>\n",
       "      <td>33.768010</td>\n",
       "      <td>51.968828</td>\n",
       "      <td>...</td>\n",
       "      <td>2.264286</td>\n",
       "      <td>2.213364</td>\n",
       "      <td>2.226222</td>\n",
       "      <td>1.368922</td>\n",
       "      <td>1.048834</td>\n",
       "      <td>1</td>\n",
       "      <td>1.100000</td>\n",
       "      <td>0.433013</td>\n",
       "      <td>0.440952</td>\n",
       "      <td>22.0</td>\n",
       "    </tr>\n",
       "    <tr>\n",
       "      <th>4</th>\n",
       "      <td>4</td>\n",
       "      <td>88.944468</td>\n",
       "      <td>57.840143</td>\n",
       "      <td>66.361592</td>\n",
       "      <td>36.110716</td>\n",
       "      <td>1.181795</td>\n",
       "      <td>1.129224</td>\n",
       "      <td>122.90607</td>\n",
       "      <td>27.848743</td>\n",
       "      <td>51.968828</td>\n",
       "      <td>...</td>\n",
       "      <td>2.242857</td>\n",
       "      <td>2.213364</td>\n",
       "      <td>2.206963</td>\n",
       "      <td>1.368922</td>\n",
       "      <td>1.096052</td>\n",
       "      <td>1</td>\n",
       "      <td>1.057143</td>\n",
       "      <td>0.433013</td>\n",
       "      <td>0.428809</td>\n",
       "      <td>23.0</td>\n",
       "    </tr>\n",
       "  </tbody>\n",
       "</table>\n",
       "<p>5 rows × 82 columns</p>\n",
       "</div>"
      ],
      "text/plain": [
       "   number_of_elements  mean_atomic_mass  wtd_mean_atomic_mass  \\\n",
       "0                   4         88.944468             57.862692   \n",
       "1                   5         92.729214             58.518416   \n",
       "2                   4         88.944468             57.885242   \n",
       "3                   4         88.944468             57.873967   \n",
       "4                   4         88.944468             57.840143   \n",
       "\n",
       "   gmean_atomic_mass  wtd_gmean_atomic_mass  entropy_atomic_mass  \\\n",
       "0          66.361592              36.116612             1.181795   \n",
       "1          73.132787              36.396602             1.449309   \n",
       "2          66.361592              36.122509             1.181795   \n",
       "3          66.361592              36.119560             1.181795   \n",
       "4          66.361592              36.110716             1.181795   \n",
       "\n",
       "   wtd_entropy_atomic_mass  range_atomic_mass  wtd_range_atomic_mass  \\\n",
       "0                 1.062396          122.90607              31.794921   \n",
       "1                 1.057755          122.90607              36.161939   \n",
       "2                 0.975980          122.90607              35.741099   \n",
       "3                 1.022291          122.90607              33.768010   \n",
       "4                 1.129224          122.90607              27.848743   \n",
       "\n",
       "   std_atomic_mass      ...        wtd_mean_Valence  gmean_Valence  \\\n",
       "0        51.968828      ...                2.257143       2.213364   \n",
       "1        47.094633      ...                2.257143       1.888175   \n",
       "2        51.968828      ...                2.271429       2.213364   \n",
       "3        51.968828      ...                2.264286       2.213364   \n",
       "4        51.968828      ...                2.242857       2.213364   \n",
       "\n",
       "   wtd_gmean_Valence  entropy_Valence  wtd_entropy_Valence  range_Valence  \\\n",
       "0           2.219783         1.368922             1.066221              1   \n",
       "1           2.210679         1.557113             1.047221              2   \n",
       "2           2.232679         1.368922             1.029175              1   \n",
       "3           2.226222         1.368922             1.048834              1   \n",
       "4           2.206963         1.368922             1.096052              1   \n",
       "\n",
       "   wtd_range_Valence  std_Valence  wtd_std_Valence  critical_temp  \n",
       "0           1.085714     0.433013         0.437059           29.0  \n",
       "1           1.128571     0.632456         0.468606           26.0  \n",
       "2           1.114286     0.433013         0.444697           19.0  \n",
       "3           1.100000     0.433013         0.440952           22.0  \n",
       "4           1.057143     0.433013         0.428809           23.0  \n",
       "\n",
       "[5 rows x 82 columns]"
      ]
     },
     "execution_count": 47,
     "metadata": {},
     "output_type": "execute_result"
    }
   ],
   "source": [
    "data.head()"
   ]
  },
  {
   "cell_type": "code",
   "execution_count": 48,
   "metadata": {},
   "outputs": [
    {
     "name": "stdout",
     "output_type": "stream",
     "text": [
      "<class 'pandas.core.frame.DataFrame'>\n",
      "RangeIndex: 21263 entries, 0 to 21262\n",
      "Data columns (total 82 columns):\n",
      "number_of_elements                 21263 non-null int64\n",
      "mean_atomic_mass                   21263 non-null float64\n",
      "wtd_mean_atomic_mass               21263 non-null float64\n",
      "gmean_atomic_mass                  21263 non-null float64\n",
      "wtd_gmean_atomic_mass              21263 non-null float64\n",
      "entropy_atomic_mass                21263 non-null float64\n",
      "wtd_entropy_atomic_mass            21263 non-null float64\n",
      "range_atomic_mass                  21263 non-null float64\n",
      "wtd_range_atomic_mass              21263 non-null float64\n",
      "std_atomic_mass                    21263 non-null float64\n",
      "wtd_std_atomic_mass                21263 non-null float64\n",
      "mean_fie                           21263 non-null float64\n",
      "wtd_mean_fie                       21263 non-null float64\n",
      "gmean_fie                          21263 non-null float64\n",
      "wtd_gmean_fie                      21263 non-null float64\n",
      "entropy_fie                        21263 non-null float64\n",
      "wtd_entropy_fie                    21263 non-null float64\n",
      "range_fie                          21263 non-null float64\n",
      "wtd_range_fie                      21263 non-null float64\n",
      "std_fie                            21263 non-null float64\n",
      "wtd_std_fie                        21263 non-null float64\n",
      "mean_atomic_radius                 21263 non-null float64\n",
      "wtd_mean_atomic_radius             21263 non-null float64\n",
      "gmean_atomic_radius                21263 non-null float64\n",
      "wtd_gmean_atomic_radius            21263 non-null float64\n",
      "entropy_atomic_radius              21263 non-null float64\n",
      "wtd_entropy_atomic_radius          21263 non-null float64\n",
      "range_atomic_radius                21263 non-null int64\n",
      "wtd_range_atomic_radius            21263 non-null float64\n",
      "std_atomic_radius                  21263 non-null float64\n",
      "wtd_std_atomic_radius              21263 non-null float64\n",
      "mean_Density                       21263 non-null float64\n",
      "wtd_mean_Density                   21263 non-null float64\n",
      "gmean_Density                      21263 non-null float64\n",
      "wtd_gmean_Density                  21263 non-null float64\n",
      "entropy_Density                    21263 non-null float64\n",
      "wtd_entropy_Density                21263 non-null float64\n",
      "range_Density                      21263 non-null float64\n",
      "wtd_range_Density                  21263 non-null float64\n",
      "std_Density                        21263 non-null float64\n",
      "wtd_std_Density                    21263 non-null float64\n",
      "mean_ElectronAffinity              21263 non-null float64\n",
      "wtd_mean_ElectronAffinity          21263 non-null float64\n",
      "gmean_ElectronAffinity             21263 non-null float64\n",
      "wtd_gmean_ElectronAffinity         21263 non-null float64\n",
      "entropy_ElectronAffinity           21263 non-null float64\n",
      "wtd_entropy_ElectronAffinity       21263 non-null float64\n",
      "range_ElectronAffinity             21263 non-null float64\n",
      "wtd_range_ElectronAffinity         21263 non-null float64\n",
      "std_ElectronAffinity               21263 non-null float64\n",
      "wtd_std_ElectronAffinity           21263 non-null float64\n",
      "mean_FusionHeat                    21263 non-null float64\n",
      "wtd_mean_FusionHeat                21263 non-null float64\n",
      "gmean_FusionHeat                   21263 non-null float64\n",
      "wtd_gmean_FusionHeat               21263 non-null float64\n",
      "entropy_FusionHeat                 21263 non-null float64\n",
      "wtd_entropy_FusionHeat             21263 non-null float64\n",
      "range_FusionHeat                   21263 non-null float64\n",
      "wtd_range_FusionHeat               21263 non-null float64\n",
      "std_FusionHeat                     21263 non-null float64\n",
      "wtd_std_FusionHeat                 21263 non-null float64\n",
      "mean_ThermalConductivity           21263 non-null float64\n",
      "wtd_mean_ThermalConductivity       21263 non-null float64\n",
      "gmean_ThermalConductivity          21263 non-null float64\n",
      "wtd_gmean_ThermalConductivity      21263 non-null float64\n",
      "entropy_ThermalConductivity        21263 non-null float64\n",
      "wtd_entropy_ThermalConductivity    21263 non-null float64\n",
      "range_ThermalConductivity          21263 non-null float64\n",
      "wtd_range_ThermalConductivity      21263 non-null float64\n",
      "std_ThermalConductivity            21263 non-null float64\n",
      "wtd_std_ThermalConductivity        21263 non-null float64\n",
      "mean_Valence                       21263 non-null float64\n",
      "wtd_mean_Valence                   21263 non-null float64\n",
      "gmean_Valence                      21263 non-null float64\n",
      "wtd_gmean_Valence                  21263 non-null float64\n",
      "entropy_Valence                    21263 non-null float64\n",
      "wtd_entropy_Valence                21263 non-null float64\n",
      "range_Valence                      21263 non-null int64\n",
      "wtd_range_Valence                  21263 non-null float64\n",
      "std_Valence                        21263 non-null float64\n",
      "wtd_std_Valence                    21263 non-null float64\n",
      "critical_temp                      21263 non-null float64\n",
      "dtypes: float64(79), int64(3)\n",
      "memory usage: 13.3 MB\n"
     ]
    }
   ],
   "source": [
    "data.info()"
   ]
  },
  {
   "cell_type": "code",
   "execution_count": 49,
   "metadata": {},
   "outputs": [
    {
     "data": {
      "text/plain": [
       "number_of_elements                 False\n",
       "mean_atomic_mass                   False\n",
       "wtd_mean_atomic_mass               False\n",
       "gmean_atomic_mass                  False\n",
       "wtd_gmean_atomic_mass              False\n",
       "entropy_atomic_mass                False\n",
       "wtd_entropy_atomic_mass            False\n",
       "range_atomic_mass                  False\n",
       "wtd_range_atomic_mass              False\n",
       "std_atomic_mass                    False\n",
       "wtd_std_atomic_mass                False\n",
       "mean_fie                           False\n",
       "wtd_mean_fie                       False\n",
       "gmean_fie                          False\n",
       "wtd_gmean_fie                      False\n",
       "entropy_fie                        False\n",
       "wtd_entropy_fie                    False\n",
       "range_fie                          False\n",
       "wtd_range_fie                      False\n",
       "std_fie                            False\n",
       "wtd_std_fie                        False\n",
       "mean_atomic_radius                 False\n",
       "wtd_mean_atomic_radius             False\n",
       "gmean_atomic_radius                False\n",
       "wtd_gmean_atomic_radius            False\n",
       "entropy_atomic_radius              False\n",
       "wtd_entropy_atomic_radius          False\n",
       "range_atomic_radius                False\n",
       "wtd_range_atomic_radius            False\n",
       "std_atomic_radius                  False\n",
       "                                   ...  \n",
       "wtd_mean_FusionHeat                False\n",
       "gmean_FusionHeat                   False\n",
       "wtd_gmean_FusionHeat               False\n",
       "entropy_FusionHeat                 False\n",
       "wtd_entropy_FusionHeat             False\n",
       "range_FusionHeat                   False\n",
       "wtd_range_FusionHeat               False\n",
       "std_FusionHeat                     False\n",
       "wtd_std_FusionHeat                 False\n",
       "mean_ThermalConductivity           False\n",
       "wtd_mean_ThermalConductivity       False\n",
       "gmean_ThermalConductivity          False\n",
       "wtd_gmean_ThermalConductivity      False\n",
       "entropy_ThermalConductivity        False\n",
       "wtd_entropy_ThermalConductivity    False\n",
       "range_ThermalConductivity          False\n",
       "wtd_range_ThermalConductivity      False\n",
       "std_ThermalConductivity            False\n",
       "wtd_std_ThermalConductivity        False\n",
       "mean_Valence                       False\n",
       "wtd_mean_Valence                   False\n",
       "gmean_Valence                      False\n",
       "wtd_gmean_Valence                  False\n",
       "entropy_Valence                    False\n",
       "wtd_entropy_Valence                False\n",
       "range_Valence                      False\n",
       "wtd_range_Valence                  False\n",
       "std_Valence                        False\n",
       "wtd_std_Valence                    False\n",
       "critical_temp                      False\n",
       "Length: 82, dtype: bool"
      ]
     },
     "execution_count": 49,
     "metadata": {},
     "output_type": "execute_result"
    }
   ],
   "source": [
    "data.isnull().any()"
   ]
  },
  {
   "cell_type": "code",
   "execution_count": 50,
   "metadata": {},
   "outputs": [
    {
     "data": {
      "text/plain": [
       "(21263, 82)"
      ]
     },
     "execution_count": 50,
     "metadata": {},
     "output_type": "execute_result"
    }
   ],
   "source": [
    "data.shape"
   ]
  },
  {
   "cell_type": "code",
   "execution_count": 51,
   "metadata": {},
   "outputs": [],
   "source": [
    "data_new=data.iloc[:,0:80]\n",
    "data_y=data.iloc[:,81]"
   ]
  },
  {
   "cell_type": "code",
   "execution_count": 52,
   "metadata": {},
   "outputs": [],
   "source": [
    "data_new=data_new.apply(zscore)"
   ]
  },
  {
   "cell_type": "code",
   "execution_count": 53,
   "metadata": {},
   "outputs": [
    {
     "data": {
      "text/html": [
       "<div>\n",
       "<style scoped>\n",
       "    .dataframe tbody tr th:only-of-type {\n",
       "        vertical-align: middle;\n",
       "    }\n",
       "\n",
       "    .dataframe tbody tr th {\n",
       "        vertical-align: top;\n",
       "    }\n",
       "\n",
       "    .dataframe thead th {\n",
       "        text-align: right;\n",
       "    }\n",
       "</style>\n",
       "<table border=\"1\" class=\"dataframe\">\n",
       "  <thead>\n",
       "    <tr style=\"text-align: right;\">\n",
       "      <th></th>\n",
       "      <th>number_of_elements</th>\n",
       "      <th>mean_atomic_mass</th>\n",
       "      <th>wtd_mean_atomic_mass</th>\n",
       "      <th>gmean_atomic_mass</th>\n",
       "      <th>wtd_gmean_atomic_mass</th>\n",
       "      <th>entropy_atomic_mass</th>\n",
       "      <th>wtd_entropy_atomic_mass</th>\n",
       "      <th>range_atomic_mass</th>\n",
       "      <th>wtd_range_atomic_mass</th>\n",
       "      <th>std_atomic_mass</th>\n",
       "      <th>...</th>\n",
       "      <th>wtd_std_ThermalConductivity</th>\n",
       "      <th>mean_Valence</th>\n",
       "      <th>wtd_mean_Valence</th>\n",
       "      <th>gmean_Valence</th>\n",
       "      <th>wtd_gmean_Valence</th>\n",
       "      <th>entropy_Valence</th>\n",
       "      <th>wtd_entropy_Valence</th>\n",
       "      <th>range_Valence</th>\n",
       "      <th>wtd_range_Valence</th>\n",
       "      <th>std_Valence</th>\n",
       "    </tr>\n",
       "  </thead>\n",
       "  <tbody>\n",
       "    <tr>\n",
       "      <th>0</th>\n",
       "      <td>-0.080058</td>\n",
       "      <td>0.046733</td>\n",
       "      <td>-0.451651</td>\n",
       "      <td>-0.158850</td>\n",
       "      <td>-0.611819</td>\n",
       "      <td>0.044358</td>\n",
       "      <td>-0.003707</td>\n",
       "      <td>0.133725</td>\n",
       "      <td>-0.053039</td>\n",
       "      <td>0.378186</td>\n",
       "      <td>...</td>\n",
       "      <td>0.663693</td>\n",
       "      <td>-0.907755</td>\n",
       "      <td>-0.752156</td>\n",
       "      <td>-0.805912</td>\n",
       "      <td>-0.711705</td>\n",
       "      <td>0.186292</td>\n",
       "      <td>0.035183</td>\n",
       "      <td>-0.837959</td>\n",
       "      <td>-0.406166</td>\n",
       "      <td>-0.838372</td>\n",
       "    </tr>\n",
       "    <tr>\n",
       "      <th>1</th>\n",
       "      <td>0.614744</td>\n",
       "      <td>0.174269</td>\n",
       "      <td>-0.432071</td>\n",
       "      <td>0.059368</td>\n",
       "      <td>-0.604180</td>\n",
       "      <td>0.777430</td>\n",
       "      <td>-0.015267</td>\n",
       "      <td>0.133725</td>\n",
       "      <td>0.108900</td>\n",
       "      <td>0.134901</td>\n",
       "      <td>...</td>\n",
       "      <td>0.681175</td>\n",
       "      <td>-1.147084</td>\n",
       "      <td>-0.752156</td>\n",
       "      <td>-1.116731</td>\n",
       "      <td>-0.719454</td>\n",
       "      <td>0.664971</td>\n",
       "      <td>-0.014779</td>\n",
       "      <td>-0.033011</td>\n",
       "      <td>-0.362352</td>\n",
       "      <td>-0.426866</td>\n",
       "    </tr>\n",
       "  </tbody>\n",
       "</table>\n",
       "<p>2 rows × 80 columns</p>\n",
       "</div>"
      ],
      "text/plain": [
       "   number_of_elements  mean_atomic_mass  wtd_mean_atomic_mass  \\\n",
       "0           -0.080058          0.046733             -0.451651   \n",
       "1            0.614744          0.174269             -0.432071   \n",
       "\n",
       "   gmean_atomic_mass  wtd_gmean_atomic_mass  entropy_atomic_mass  \\\n",
       "0          -0.158850              -0.611819             0.044358   \n",
       "1           0.059368              -0.604180             0.777430   \n",
       "\n",
       "   wtd_entropy_atomic_mass  range_atomic_mass  wtd_range_atomic_mass  \\\n",
       "0                -0.003707           0.133725              -0.053039   \n",
       "1                -0.015267           0.133725               0.108900   \n",
       "\n",
       "   std_atomic_mass     ...       wtd_std_ThermalConductivity  mean_Valence  \\\n",
       "0         0.378186     ...                          0.663693     -0.907755   \n",
       "1         0.134901     ...                          0.681175     -1.147084   \n",
       "\n",
       "   wtd_mean_Valence  gmean_Valence  wtd_gmean_Valence  entropy_Valence  \\\n",
       "0         -0.752156      -0.805912          -0.711705         0.186292   \n",
       "1         -0.752156      -1.116731          -0.719454         0.664971   \n",
       "\n",
       "   wtd_entropy_Valence  range_Valence  wtd_range_Valence  std_Valence  \n",
       "0             0.035183      -0.837959          -0.406166    -0.838372  \n",
       "1            -0.014779      -0.033011          -0.362352    -0.426866  \n",
       "\n",
       "[2 rows x 80 columns]"
      ]
     },
     "execution_count": 53,
     "metadata": {},
     "output_type": "execute_result"
    }
   ],
   "source": [
    "data_new.head(2)"
   ]
  },
  {
   "cell_type": "code",
   "execution_count": 63,
   "metadata": {},
   "outputs": [
    {
     "data": {
      "text/plain": [
       "array([[-3.66193332,  1.11046072,  2.97797515, ...,  0.44440123,\n",
       "        -0.2260764 , -0.62450859],\n",
       "       [-4.55342128, -0.14269996,  1.64836636, ..., -0.2689408 ,\n",
       "         0.09652374,  0.66284358],\n",
       "       [-3.48566352,  1.17674353,  3.06804526, ...,  0.46616996,\n",
       "         0.01587426, -0.6922392 ],\n",
       "       ...,\n",
       "       [10.48011098, -0.86217049,  1.48237446, ..., -0.76411508,\n",
       "         0.20888709, -0.43891067],\n",
       "       [ 9.77393477, -0.94794028,  1.16888695, ..., -0.63467103,\n",
       "        -1.59528653, -0.01268628],\n",
       "       [ 3.90833354,  1.33089555, -1.31128456, ..., -2.95632651,\n",
       "         0.1339406 ,  0.09790514]])"
      ]
     },
     "execution_count": 63,
     "metadata": {},
     "output_type": "execute_result"
    }
   ],
   "source": [
    "from sklearn.decomposition import PCA\n",
    "#0rr\n",
    "pca=PCA(n_components=9)\n",
    "#pca=PCA()\n",
    "temp_pca=pca.fit_transform(data_new)\n",
    "temp_pca\n"
   ]
  },
  {
   "cell_type": "code",
   "execution_count": 64,
   "metadata": {},
   "outputs": [
    {
     "data": {
      "text/plain": [
       "9"
      ]
     },
     "execution_count": 64,
     "metadata": {},
     "output_type": "execute_result"
    }
   ],
   "source": [
    "#let us investigate the proporion\n",
    "#of variance explained and the elbow method\n",
    "\n",
    "#pca.get_covariance()\n",
    "pca.explained_variance_\n",
    "len(pca.explained_variance_)\n",
    "#len(pca.explained_variance_)"
   ]
  },
  {
   "cell_type": "code",
   "execution_count": 65,
   "metadata": {},
   "outputs": [
    {
     "data": {
      "text/plain": [
       "array([0.39417953, 0.5002678 , 0.59209054, 0.67212617, 0.73007813,\n",
       "       0.76842321, 0.805006  , 0.83540543, 0.85726795])"
      ]
     },
     "execution_count": 65,
     "metadata": {},
     "output_type": "execute_result"
    }
   ],
   "source": [
    "#cumullative\n",
    "pca.explained_variance_ratio_.cumsum()\n"
   ]
  },
  {
   "cell_type": "code",
   "execution_count": 66,
   "metadata": {},
   "outputs": [],
   "source": [
    "\n",
    "from sklearn.metrics import accuracy_score\n",
    "from sklearn.tree import DecisionTreeRegressor\n",
    "\n"
   ]
  },
  {
   "cell_type": "code",
   "execution_count": 72,
   "metadata": {},
   "outputs": [
    {
     "data": {
      "text/plain": [
       "14.869410615772848"
      ]
     },
     "execution_count": 72,
     "metadata": {},
     "output_type": "execute_result"
    }
   ],
   "source": [
    "DTRegressor = DecisionTreeRegressor (max_depth=6, min_samples_split = 2, random_state = 0)\n",
    " \n",
    "DTRegressor.fit (data_new,data_y)\n",
    "predicted_labels = DTRegressor.predict(data_new)\n",
    "np.sqrt(((data_y-predicted_labels)**2).mean())#prediction error eliminate the highest one out\n"
   ]
  },
  {
   "cell_type": "code",
   "execution_count": 73,
   "metadata": {},
   "outputs": [
    {
     "data": {
      "text/plain": [
       "16.490414976756675"
      ]
     },
     "execution_count": 73,
     "metadata": {},
     "output_type": "execute_result"
    }
   ],
   "source": [
    "#with pca\n",
    "DTRegressor = DecisionTreeRegressor (max_depth=6, min_samples_split = 2, random_state = 0)\n",
    " \n",
    "DTRegressor.fit (temp_pca,data_y)\n",
    "predicted_labels = DTRegressor.predict(temp_pca)\n",
    "np.sqrt(((data_y-predicted_labels)**2).mean())#prediction error eliminate the highest one out\n"
   ]
  },
  {
   "cell_type": "code",
   "execution_count": 74,
   "metadata": {},
   "outputs": [
    {
     "data": {
      "image/png": "[encoded data removed]",
      "text/plain": [
       "<Figure size 432x288 with 1 Axes>"
      ]
     },
     "metadata": {
      "needs_background": "light"
     },
     "output_type": "display_data"
    }
   ],
   "source": [
    "%matplotlib inline\n",
    "from matplotlib import pyplot as plt\n",
    "import seaborn as sns\n",
    "plt.plot(pca.explained_variance_ratio_)\n",
    "plt.xlabel('number of components')\n",
    "plt.ylabel('cumulative explained variance')\n",
    "plt.show()"
   ]
  },
  {
   "cell_type": "code",
   "execution_count": 60,
   "metadata": {},
   "outputs": [],
   "source": [
    "#after splitting the data"
   ]
  },
  {
   "cell_type": "code",
   "execution_count": 61,
   "metadata": {},
   "outputs": [],
   "source": []
  },
  {
   "cell_type": "code",
   "execution_count": null,
   "metadata": {},
   "outputs": [],
   "source": []
  },
  {
   "cell_type": "code",
   "execution_count": null,
   "metadata": {},
   "outputs": [],
   "source": []
  },
  {
   "cell_type": "code",
   "execution_count": null,
   "metadata": {},
   "outputs": [],
   "source": []
  },
  {
   "cell_type": "code",
   "execution_count": null,
   "metadata": {},
   "outputs": [],
   "source": []
  }
 ],
 "metadata": {
  "kernelspec": {
   "display_name": "Python 3",
   "language": "python",
   "name": "python3"
  },
  "language_info": {
   "codemirror_mode": {
    "name": "ipython",
    "version": 3
   },
   "file_extension": ".py",
   "mimetype": "text/x-python",
   "name": "python",
   "nbconvert_exporter": "python",
   "pygments_lexer": "ipython3",
   "version": "3.7.0"
  }
 },
 "nbformat": 4,
 "nbformat_minor": 2
}
